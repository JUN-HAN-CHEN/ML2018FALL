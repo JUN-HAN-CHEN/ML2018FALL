{
 "cells": [
  {
   "cell_type": "code",
   "execution_count": 1,
   "metadata": {},
   "outputs": [
    {
     "name": "stderr",
     "output_type": "stream",
     "text": [
      "Using TensorFlow backend.\n"
     ]
    }
   ],
   "source": [
    "import pandas as pd\n",
    "import numpy as np\n",
    "np.set_printoptions(threshold=np.inf)\n",
    "import re\n",
    "import emoji\n",
    "import jieba\n",
    "from gensim.models.word2vec import Word2Vec\n",
    "from keras import regularizers\n",
    "from keras.utils import to_categorical\n",
    "from keras.layers.normalization import BatchNormalization\n",
    "from keras.layers.recurrent import LSTM\n",
    "from keras.layers.embeddings import Embedding\n",
    "from keras.models import Model, Sequential, load_model\n",
    "from keras.layers import Dense, Activation, GRU, Dropout\n",
    "from keras.callbacks import ModelCheckpoint, CSVLogger, EarlyStopping\n",
    "from keras.optimizers import SGD, Adam\n",
    "from keras.preprocessing.sequence import pad_sequences\n",
    "jieba.set_dictionary('./dict.txt.big') # 繁體字詞庫"
   ]
  },
  {
   "cell_type": "code",
   "execution_count": null,
   "metadata": {},
   "outputs": [],
   "source": [
    "stopwords = [line.strip() for line in open(\"./stopword.txt\", 'r', encoding='utf-8').readlines()]  \n",
    "stopword=[\"ㄉ\",\"呃\",\"我\",\"你\",\"ㄟ\",\" \", \"，\", \"。\", \"?\", \"!\", \"~\", \"！\", \"？\", \"=\", \"＝\", \"～\", \"「\", \"」\", \",\", \".\", \">\", \"<\", \"/\", \"\\\\\", \"、\", \"^\", \"＾\", \"-\",\"+\",\"＋\",\"B\",\"1\",\"2\",\"3\",\"4\",\"5\",\"6\",\"7\",\"8\",\"9\",\"0\",\".\",\"...\",\":\",\"ㄅ\",\"ㄇ\",\"ㄈ\",\"X\",\"D\",\"(\",\")\",\":\",\"－\",\"』\",\"『\",\"@\",\"＠\",\"with\",\"face\",\"of\",\"x\",\"d\",\"¬\",\"_\",\"ﾉ\"]\n",
    "#stopword+=stopwords\n",
    "def preprocess(filepath):#讀檔   刪字   斷詞\n",
    "    df=pd.read_csv(filepath,sep='\\r')\n",
    "    df=np.array(df)\n",
    "    dfid=[]\n",
    "    dfcomment=[]\n",
    "    for i in range(len(df)):\n",
    "        dfid.append(re.split(r',',df[i][0])[0])\n",
    "        dfcomment.append(emoji.demojize(re.split(r',',df[i][0])[1]))\n",
    "#     for i in range(len(dfcomment)) :\n",
    "#         for j in range(len(stopword)):\n",
    "#             #dfcomment[i]=dfcomment[i].replace(stopword[j],\"\")  \n",
    "    seg_list=[]\n",
    "    for i in range(len(dfcomment)):\n",
    "        seg_list.append(list(jieba.cut(dfcomment[i],cut_all=False)))\n",
    "    dfdic={\"id\":dfid,\"comment\":seg_list}\n",
    "    dfd={\"comment\":seg_list}\n",
    "    #print(len(dfid),len(seg_list))\n",
    "    df=pd.DataFrame(dfd,columns=[\"comment\"])     \n",
    "    return df\n",
    "def most_similar(w2v_model, words, topn=10):\n",
    "    similar_df = pd.DataFrame()\n",
    "    for word in words:\n",
    "        try:\n",
    "            similar_words = pd.DataFrame(w2v_model.wv.most_similar(word, topn=topn), columns=[word, 'cos'])\n",
    "            similar_df = pd.concat([similar_df, similar_words], axis=1)\n",
    "        except:\n",
    "            print(word, \"not found in Word2Vec model!\")\n",
    "    return similar_df\n",
    "def text_to_index(corpus):\n",
    "    new_corpus = []\n",
    "    for doc in corpus:\n",
    "        new_doc = []\n",
    "        for word in doc:\n",
    "            try:\n",
    "                new_doc.append(word2idx[word])\n",
    "            except:\n",
    "                new_doc.append(0)\n",
    "        new_corpus.append(new_doc)\n",
    "    return np.array(new_corpus)"
   ]
  },
  {
   "cell_type": "code",
   "execution_count": null,
   "metadata": {},
   "outputs": [
    {
     "name": "stderr",
     "output_type": "stream",
     "text": [
      "Building prefix dict from /home/jun-han-chen/ML2018FALL/hw4/dict.txt.big ...\n",
      "Loading model from cache /tmp/jieba.u91c4c1c96858deb7b78a4f0191b1b37e.cache\n",
      "Loading model cost 0.773 seconds.\n",
      "Prefix dict has been built succesfully.\n"
     ]
    }
   ],
   "source": [
    "X_train=preprocess(\"train_x.csv\")\n",
    "X_test=preprocess(\"test_x.csv\")\n",
    "\n",
    "\n",
    "Y_train=pd.read_csv(\"train_y.csv\")\n",
    "Y_train=Y_train.label\n",
    "#Y_train = to_categorical(Y_train)"
   ]
  },
  {
   "cell_type": "code",
   "execution_count": null,
   "metadata": {},
   "outputs": [],
   "source": [
    "corpus=pd.concat([X_train.comment,X_test.comment,X_test.comment,X_test.comment])\n",
    "#corpus = np.vstack([X_train, X_test, X_test])\n",
    "word_model = Word2Vec(corpus,size=256)\n",
    "pretrained_weights = word_model.wv.syn0\n",
    "vocab_size, emdedding_size = pretrained_weights.shape\n",
    "print(vocab_size)\n",
    "print(emdedding_size)\n",
    "word_model.save('word2vec.model')\n",
    "word_model = Word2Vec.load('word2vec.model')"
   ]
  },
  {
   "cell_type": "code",
   "execution_count": null,
   "metadata": {},
   "outputs": [],
   "source": [
    "X_val=X_train[-10000:].comment\n",
    "Y_val=Y_train[-10000:]\n",
    "X_train=X_train[:-10000].comment\n",
    "Y_train=Y_train[:-10000]"
   ]
  },
  {
   "cell_type": "code",
   "execution_count": null,
   "metadata": {},
   "outputs": [],
   "source": [
    "embedding_matrix = np.zeros((len(word_model.wv.vocab.items()) + 1, word_model.vector_size))\n",
    "word2idx={}\n",
    "vocab_list = [(word, word_model.wv[word]) for word , _ in word_model.wv.vocab.items()]\n",
    "for i, vocab in enumerate(vocab_list):\n",
    "    word, vec = vocab\n",
    "    embedding_matrix[i + 1] = vec\n",
    "    word2idx[word] = i + 1\n",
    "embedding_layer = Embedding(input_dim=embedding_matrix.shape[0],\n",
    "                            output_dim=embedding_matrix.shape[1],\n",
    "                            weights=[embedding_matrix],\n",
    "                            trainable=False)\n",
    "PADDING_LENGTH = 64\n",
    "X_train = text_to_index(X_train)    \n",
    "X_train = pad_sequences(X_train, maxlen=PADDING_LENGTH)    \n",
    "X_val = text_to_index(X_val)\n",
    "X_val = pad_sequences(X_val, maxlen=PADDING_LENGTH)\n",
    "print(\"Shape:\", X_train.shape)\n",
    "print(\"Sample:\", X_train[10])"
   ]
  },
  {
   "cell_type": "code",
   "execution_count": null,
   "metadata": {},
   "outputs": [],
   "source": [
    "model = Sequential()\n",
    "model.add(embedding_layer)\n",
    "# model.add(LSTM(units=256,dropout=0.5,recurrent_dropout=0.5,return_sequences=True))\n",
    "# model.add(LSTM(units=256,dropout=0.5,recurrent_dropout=0.5,return_sequences=True))\n",
    "\n",
    "model.add(GRU(units=128,activation=\"tanh\",dropout=0.3,recurrent_dropout=0.3,return_sequences=True))\n",
    "# model.add(GRU(units=32,activation=\"tanh\",dropout=0.3,recurrent_dropout=0.3,return_sequences=True))\n",
    "model.add(GRU(units=128,activation=\"tanh\",dropout=0.3,recurrent_dropout=0.3,return_sequences=True))\n",
    "model.add(GRU(units=128,activation=\"tanh\",dropout=0.3,recurrent_dropout=0.3,return_sequences=False))\n",
    "\n",
    "\n",
    "model.add(BatchNormalization())\n",
    "model.add(Dense(256, activation='relu'))\n",
    "model.add(Dropout(0.3))\n",
    "\n",
    "model.add(BatchNormalization())\n",
    "model.add(Dense(128, activation='relu'))\n",
    "model.add(Dropout(0.3))\n",
    "\n",
    "model.add(BatchNormalization())\n",
    "model.add(Dense(32, activation='relu'))\n",
    "#model.add(BatchNormalization())\n",
    "model.add(Dropout(0.3))\n",
    "\n",
    "\n",
    "model.add(BatchNormalization())\n",
    "model.add(Dense(1, activation='sigmoid'))\n",
    "sgd = SGD(lr=0.005, decay=0.00001, momentum=0.9)\n",
    "adam = Adam(lr=0.001, decay=1e-6, clipvalue=0.5)\n",
    "\n",
    "#model.compile(loss='categorical_crossentropy', optimizer=adam, metrics=['accuracy'])\n",
    "model.compile(optimizer='adam', loss='binary_crossentropy',metrics=[\"accuracy\"])\n",
    "model.summary()"
   ]
  },
  {
   "cell_type": "code",
   "execution_count": null,
   "metadata": {},
   "outputs": [],
   "source": [
    "# Setting callback functions\n",
    "csv_logger = CSVLogger('training.log')\n",
    "checkpoint = ModelCheckpoint(filepath='models-keras/best',\n",
    "                             verbose=1,\n",
    "                             save_best_only=True,\n",
    "                             monitor='val_acc',\n",
    "                             mode='max')\n",
    "earlystopping = EarlyStopping(monitor='val_acc', \n",
    "                              patience=6, \n",
    "                              verbose=1, \n",
    "                              mode='max')\n",
    "                             \n",
    "# Train the model\n",
    "train_history = model.fit(X_train, Y_train, \n",
    "          validation_data=(X_val, Y_val),\n",
    "          epochs=100,\n",
    "          batch_size=500,\n",
    "          callbacks=[earlystopping, checkpoint, csv_logger])"
   ]
  },
  {
   "cell_type": "code",
   "execution_count": 8,
   "metadata": {},
   "outputs": [
    {
     "name": "stdout",
     "output_type": "stream",
     "text": [
      "<keras.callbacks.History object at 0x7f85c43450f0>\n"
     ]
    },
    {
     "data": {
      "text/plain": [
       "<matplotlib.legend.Legend at 0x7f82c869e3c8>"
      ]
     },
     "execution_count": 8,
     "metadata": {},
     "output_type": "execute_result"
    },
    {
     "data": {
      "image/png": "[encoded data removed]",
      "text/plain": [
       "<Figure size 432x288 with 1 Axes>"
      ]
     },
     "metadata": {
      "needs_background": "light"
     },
     "output_type": "display_data"
    }
   ],
   "source": [
    "print(train_history)\n",
    "#visualization\n",
    "#from keras.utils import plot_model\n",
    "#plot_model(model, to_file='model.png')\n",
    "from matplotlib import pyplot as plt\n",
    "%matplotlib inline\n",
    "plt.plot(train_history.history['loss'])  \n",
    "plt.plot(train_history.history['val_loss'])  \n",
    "plt.title('Train History')  \n",
    "plt.ylabel('loss')  \n",
    "plt.xlabel('Epoch')  \n",
    "plt.legend(['loss', 'val_loss'], loc='upper left')  \n",
    "#plt.show() "
   ]
  },
  {
   "cell_type": "code",
   "execution_count": 9,
   "metadata": {},
   "outputs": [
    {
     "data": {
      "text/plain": [
       "<matplotlib.legend.Legend at 0x7f82c86db4e0>"
      ]
     },
     "execution_count": 9,
     "metadata": {},
     "output_type": "execute_result"
    },
    {
     "data": {
      "image/png": "[encoded data removed]",
      "text/plain": [
       "<Figure size 432x288 with 1 Axes>"
      ]
     },
     "metadata": {
      "needs_background": "light"
     },
     "output_type": "display_data"
    }
   ],
   "source": [
    "plt.plot(train_history.history['acc'])  \n",
    "plt.plot(train_history.history['val_acc'])  \n",
    "plt.title('Train History')  \n",
    "plt.ylabel('acc')  \n",
    "plt.xlabel('Epoch')  \n",
    "plt.legend(['acc', 'val_acc'], loc='upper left') "
   ]
  },
  {
   "cell_type": "code",
   "execution_count": null,
   "metadata": {},
   "outputs": [],
   "source": [
    "model = load_model('./models-keras/best')\n",
    "X_test=preprocess(\"test_x.csv\")\n",
    "X_test = text_to_index(X_test.comment)\n",
    "X_test=pad_sequences(X_test, maxlen=PADDING_LENGTH)\n",
    "Y_pred = model.predict(X_test)\n",
    "th=0.5\n",
    "for i in range(len(Y_pred)):\n",
    "    if Y_pred[i]>th:\n",
    "        Y_pred[i]=1\n",
    "    else:\n",
    "        Y_pred[i]=0\n",
    "Y_pred=Y_pred.astype(int)\n",
    "#Output\n",
    "a=[]\n",
    "for i in range(80000):\n",
    "    a.append(str(i))\n",
    "Id = pd.DataFrame(a,columns=[\"id\"])\n",
    "value = pd.DataFrame({\"label\":[0]*80000})\n",
    "result = pd.concat([Id, value], axis=1)\n",
    "result['label'] = Y_pred\n",
    "result.to_csv('ans.csv', index=False, encoding='big5')"
   ]
  },
  {
   "cell_type": "markdown",
   "metadata": {},
   "source": [
    "\"在說別人白痴之前，先想想自己”\n",
    "” 在說別人之前先想想自己，白痴”\n"
   ]
  },
  {
   "cell_type": "code",
   "execution_count": 10,
   "metadata": {},
   "outputs": [
    {
     "name": "stderr",
     "output_type": "stream",
     "text": [
      "Building prefix dict from /home/jun-han-chen/ML2018FALL/hw4/dict.txt.big ...\n",
      "Loading model from cache /tmp/jieba.u91c4c1c96858deb7b78a4f0191b1b37e.cache\n",
      "Loading model cost 0.738 seconds.\n",
      "Prefix dict has been built succesfully.\n"
     ]
    },
    {
     "data": {
      "text/plain": [
       "['在', '說', '別人', '白痴', '之前', '，', '先', '想想', '自己']"
      ]
     },
     "execution_count": 10,
     "metadata": {},
     "output_type": "execute_result"
    }
   ],
   "source": [
    "import jieba\n",
    "jieba.set_dictionary('dict.txt.big')\n",
    "a=list(jieba.cut('在說別人白痴之前，先想想自己', cut_all=False))\n",
    "b=list(jieba.cut('在說別人之前先想想自己，白痴', cut_all=False))\n",
    "a"
   ]
  },
  {
   "cell_type": "code",
   "execution_count": 9,
   "metadata": {},
   "outputs": [
    {
     "data": {
      "text/plain": [
       "array([list([0]), list([0]), list([0, 0]), list([0, 0]), list([0, 0]),\n",
       "       list([0]), list([0]), list([0, 0]), list([0, 0])], dtype=object)"
      ]
     },
     "execution_count": 9,
     "metadata": {},
     "output_type": "execute_result"
    }
   ],
   "source": [
    "model = load_model('./models-keras/best')\n",
    "a = text_to_index(a)\n",
    "#a=pad_sequences(a, maxlen=5)\n",
    "a\n",
    "#model.predict(a)"
   ]
  },
  {
   "cell_type": "code",
   "execution_count": 3,
   "metadata": {},
   "outputs": [
    {
     "name": "stderr",
     "output_type": "stream",
     "text": [
      "Building prefix dict from /home/jun-han-chen/ML2018FALL/hw4/dict.txt.big ...\n",
      "Loading model from cache /tmp/jieba.u91c4c1c96858deb7b78a4f0191b1b37e.cache\n",
      "Loading model cost 0.931 seconds.\n",
      "Prefix dict has been built succesfully.\n"
     ]
    },
    {
     "name": "stdout",
     "output_type": "stream",
     "text": [
      "80000/80000 [==============================] - 63s 788us/step\n"
     ]
    }
   ],
   "source": [
    "import pandas as pd\n",
    "import numpy as np\n",
    "import re\n",
    "import emoji\n",
    "import sys\n",
    "import jieba\n",
    "from gensim.models.word2vec import Word2Vec\n",
    "from keras import regularizers\n",
    "from keras.utils import to_categorical\n",
    "from keras.layers.normalization import BatchNormalization\n",
    "from keras.layers.recurrent import LSTM\n",
    "from keras.layers.embeddings import Embedding\n",
    "from keras.models import Model, Sequential, load_model\n",
    "from keras.layers import Dense, Activation, GRU, Dropout\n",
    "from keras.callbacks import ModelCheckpoint, CSVLogger, EarlyStopping\n",
    "from keras.optimizers import SGD, Adam\n",
    "from keras.preprocessing.sequence import pad_sequences\n",
    "jieba.set_dictionary('dict.txt.big') # 繁體字詞庫\n",
    "#stopwords = [line.strip() for line in open(\"./stopword.txt\", 'r', encoding='utf-8').readlines()]  \n",
    "stopword=[\"ㄉ\",\"呃\",\"我\",\"你\",\"ㄟ\",\" \", \"，\", \"。\", \"?\", \"!\", \"~\", \"！\", \"？\", \"=\", \"＝\", \"～\", \"「\", \"」\", \",\", \".\", \">\", \"<\", \"/\", \"\\\\\", \"、\", \"^\", \"＾\", \"-\",\"+\",\"＋\",\"B\",\"1\",\"2\",\"3\",\"4\",\"5\",\"6\",\"7\",\"8\",\"9\",\"0\",\".\",\"...\",\":\",\"ㄅ\",\"ㄇ\",\"ㄈ\",\"X\",\"D\",\"(\",\")\",\":\",\"－\",\"』\",\"『\",\"@\",\"＠\",\"with\",\"face\",\"of\",\"x\",\"d\",\"¬\",\"_\",\"ﾉ\"]\n",
    "#stopword+=stopwords\n",
    "def preprocess(filepath):#讀檔   刪字   斷詞\n",
    "    df=pd.read_csv(filepath,sep='\\r')\n",
    "    df=np.array(df)\n",
    "    dfid=[]\n",
    "    dfcomment=[]\n",
    "    for i in range(len(df)):\n",
    "        dfid.append(re.split(r',',df[i][0])[0])\n",
    "        dfcomment.append(emoji.demojize(re.split(r',',df[i][0])[1]))\n",
    "#     for i in range(len(dfcomment)) :\n",
    "#         for j in range(len(stopword)):\n",
    "#             #dfcomment[i]=dfcomment[i].replace(stopword[j],\"\")  \n",
    "    seg_list=[]\n",
    "    for i in range(len(dfcomment)):\n",
    "        seg_list.append(list(jieba.cut(dfcomment[i],cut_all=False)))\n",
    "    dfdic={\"id\":dfid,\"comment\":seg_list}\n",
    "    dfd={\"comment\":seg_list}\n",
    "    #print(len(dfid),len(seg_list))\n",
    "    df=pd.DataFrame(dfd,columns=[\"comment\"])     \n",
    "    return df\n",
    "\n",
    "def text_to_index(corpus):\n",
    "    new_corpus = []\n",
    "    for doc in corpus:\n",
    "        new_doc = []\n",
    "        for word in doc:\n",
    "            try:\n",
    "                new_doc.append(word2idx[word])\n",
    "            except:\n",
    "                new_doc.append(0)\n",
    "        new_corpus.append(new_doc)\n",
    "    return np.array(new_corpus)\n",
    "PADDING_LENGTH=64\n",
    "model = load_model('best')\n",
    "X_test=preprocess('test_x.csv')\n",
    "X_test = text_to_index(X_test.comment)\n",
    "X_test=pad_sequences(X_test, maxlen=PADDING_LENGTH)\n",
    "Y_pred = model.predict(X_test,verbose=1)\n",
    "th=0.5\n",
    "for i in range(len(Y_pred)):\n",
    "    if Y_pred[i]>th:\n",
    "        Y_pred[i]=1\n",
    "    else:\n",
    "        Y_pred[i]=0\n",
    "Y_pred=Y_pred.astype(int)\n",
    "#Output\n",
    "a=[]\n",
    "for i in range(80000):\n",
    "    a.append(str(i))\n",
    "Id = pd.DataFrame(a,columns=[\"id\"])\n",
    "value = pd.DataFrame({\"label\":[0]*80000})\n",
    "result = pd.concat([Id, value], axis=1)\n",
    "result['label'] = Y_pred\n",
    "result.to_csv('ans.csv', index=False, encoding='big5')"
   ]
  },
  {
   "cell_type": "code",
   "execution_count": 4,
   "metadata": {},
   "outputs": [
    {
     "data": {
      "text/plain": [
       "array([[0],\n",
       "       [0],\n",
       "       [0],\n",
       "       ...,\n",
       "       [0],\n",
       "       [0],\n",
       "       [0]])"
      ]
     },
     "execution_count": 4,
     "metadata": {},
     "output_type": "execute_result"
    }
   ],
   "source": [
    "Y_pred"
   ]
  }
 ],
 "metadata": {
  "kernelspec": {
   "display_name": "Python 3",
   "language": "python",
   "name": "python3"
  },
  "language_info": {
   "codemirror_mode": {
    "name": "ipython",
    "version": 3
   },
   "file_extension": ".py",
   "mimetype": "text/x-python",
   "name": "python",
   "nbconvert_exporter": "python",
   "pygments_lexer": "ipython3",
   "version": "3.5.2"
  }
 },
 "nbformat": 4,
 "nbformat_minor": 2
}
